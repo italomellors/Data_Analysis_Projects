{
  "nbformat": 4,
  "nbformat_minor": 0,
  "metadata": {
    "colab": {
      "provenance": []
    },
    "kernelspec": {
      "name": "python3",
      "display_name": "Python 3"
    },
    "language_info": {
      "name": "python"
    }
  },
  "cells": [
    {
      "cell_type": "code",
      "source": [
        "# Importando bibliotecas\n",
        "import pandas as pd\n",
        "from sqlite3.dbapi2 import connect\n",
        "import sqlite3\n",
        "import csv\n",
        "import os"
      ],
      "metadata": {
        "id": "Mb-FgccMcPhE"
      },
      "execution_count": 31,
      "outputs": []
    },
    {
      "cell_type": "code",
      "source": [
        "# criando banco de dados\n",
        "conection = sqlite3.connect('super_market.db')"
      ],
      "metadata": {
        "id": "u3d8fzBWT3uj"
      },
      "execution_count": 32,
      "outputs": []
    },
    {
      "cell_type": "code",
      "source": [
        "# Conectando ao banco de dados\n",
        "cursor = conection.cursor()"
      ],
      "metadata": {
        "id": "XUf2--SE1xnJ"
      },
      "execution_count": 33,
      "outputs": []
    },
    {
      "cell_type": "code",
      "source": [
        "# Salvando o banco de dados\n",
        "conection.commit()"
      ],
      "metadata": {
        "id": "3mMLUDwE2IA4"
      },
      "execution_count": 38,
      "outputs": []
    },
    {
      "cell_type": "code",
      "source": [
        "# Desconectando o Banco de dados\n",
        "conection.close()"
      ],
      "metadata": {
        "id": "DyhlboRt1-0J"
      },
      "execution_count": null,
      "outputs": []
    },
    {
      "cell_type": "code",
      "source": [
        "# consultar nome das tabelas\n",
        "result = cursor.execute(\"select name from sqlite_master\")\n",
        "result.fetchall()"
      ],
      "metadata": {
        "colab": {
          "base_uri": "https://localhost:8080/"
        },
        "id": "7a362k_gjd6z",
        "outputId": "17695630-ef3a-4a94-9c26-b0149ac1b90d"
      },
      "execution_count": 42,
      "outputs": [
        {
          "output_type": "execute_result",
          "data": {
            "text/plain": [
              "[('Products',)]"
            ]
          },
          "metadata": {},
          "execution_count": 42
        }
      ]
    },
    {
      "cell_type": "code",
      "source": [
        "# Caminho para o CSV\n",
        "csv_path = '/content/products_supermarket.csv'\n",
        "\n",
        "with open(csv_path, newline='', encoding='utf-8') as csvfile:\n",
        "\n",
        "    reader = csv.DictReader(csvfile)\n",
        "\n",
        "    original_columns = reader.fieldnames\n",
        "    cleaned_column_names = [col.strip().replace(\" \", \"_\") for col in original_columns]\n",
        "    escaped_column_names = [f\"`{col}`\" for col in cleaned_column_names]\n",
        "\n",
        "    sql_columns = ', '.join([f\"{col} TEXT\" for col in escaped_column_names])\n",
        "    cursor.execute(f\"CREATE TABLE Products ({sql_columns})\")\n",
        "\n",
        "    for row in reader:\n",
        "        cleaned_row = {col.strip().replace(\" \", \"_\"): value for col, value in row.items()}\n",
        "        placeholders = ', '.join([f\":{col}\" for col in cleaned_column_names])\n",
        "        column_list_sql = ', '.join(escaped_column_names)\n",
        "\n",
        "        sql_insert = f\"INSERT INTO Products ({column_list_sql}) VALUES ({placeholders})\"\n",
        "        cursor.execute(sql_insert, cleaned_row)"
      ],
      "metadata": {
        "id": "sq2T_xc96gAw"
      },
      "execution_count": 36,
      "outputs": []
    },
    {
      "cell_type": "code",
      "source": [
        "# buscar todos os registros\n",
        "cursor.execute(\"SELECT * FROM Products\")\n",
        "print(cursor.fetchall())"
      ],
      "metadata": {
        "colab": {
          "base_uri": "https://localhost:8080/"
        },
        "id": "S6MP5ZeQ6rIZ",
        "outputId": "1ecca4b5-7e78-4b8b-ac0f-6e6a22fd1437"
      },
      "execution_count": 39,
      "outputs": [
        {
          "output_type": "stream",
          "name": "stdout",
          "text": [
            "[('1', 'Rice', 'Basic Foods', '120', '5kg pack', '3.32', '4.38'), ('2', 'Beans', 'Basic Foods', '95', '1kg pack', '1.49', '2.11'), ('3', 'Pasta', 'Basic Foods', '150', '500g pack', '0.56', '0.97'), ('4', 'Soybean Oil', 'Basic Foods', '80', '900ml bottle', '1.20', '1.74'), ('5', 'Sugar', 'Basic Foods', '110', '1kg pack', '0.76', '1.14'), ('6', 'Salt', 'Basic Foods', '200', '1kg pack', '0.26', '0.53'), ('7', 'Wheat Flour', 'Basic Foods', '75', '1kg pack', '0.74', '1.20'), ('8', 'Cornmeal', 'Basic Foods', '60', '500g pack', '0.62', '1.04'), ('9', 'Milk', 'Dairy', '180', '1L carton', '0.72', '1.14'), ('10', 'Butter', 'Dairy', '65', '200g block', '1.56', '2.37'), ('11', 'Margarine', 'Dairy', '70', '500g block', '1.20', '1.85'), ('12', 'Mozzarella Cheese', 'Dairy', '45', '100g slice', '0.44', '0.79'), ('13', 'Yogurt', 'Dairy', '90', '170g cup', '0.32', '0.62'), ('14', 'Cream Cheese', 'Dairy', '55', '200g tub', '0.91', '1.56'), ('15', 'Heavy Cream', 'Dairy', '50', '200ml box', '0.69', '1.14'), ('16', 'Condensed Milk', 'Dairy', '40', '395g can', '1.14', '1.76'), ('17', 'French Bread', 'Bakery', '200', 'Unit', '0.06', '0.18'), ('18', 'Sliced Bread', 'Bakery', '45', '500g pack', '1.44', '2.27'), ('19', 'Cake', 'Bakery', '15', 'Slice', '0.32', '0.79'), ('20', 'Toast', 'Bakery', '30', '200g pack', '0.79', '1.41'), ('21', 'Ham', 'Deli', '25', '100g slice', '0.67', '1.23'), ('22', 'Bologna', 'Deli', '30', '100g slice', '0.51', '0.97'), ('23', 'Chicken Breast', 'Meats', '35', '1kg tray', '2.79', '4.02'), ('24', 'Ground Beef', 'Meats', '20', '500g tray', '3.25', '4.73'), ('25', 'Pork Chop', 'Meats', '15', '1kg tray', '4.02', '5.78'), ('26', 'Eggs', 'Meats/Deli', '240', 'Dozen', '1.56', '2.62'), ('27', 'Calabrese Sausage', 'Deli', '18', '500g pack', '2.20', '3.50'), ('28', 'Frozen Fish', 'Meats', '12', '1kg pack', '4.38', '6.49'), ('29', 'Lettuce', 'Produce', '50', 'Bunch', '0.21', '0.62'), ('30', 'Tomato', 'Produce', '60', 'Kg', '0.79', '1.56'), ('31', 'Onion', 'Produce', '70', 'Kg', '0.56', '1.14'), ('32', 'Garlic', 'Produce', '40', '100g head', '0.49', '0.97'), ('33', 'Potato', 'Produce', '85', 'Kg', '0.62', '1.21'), ('34', 'Carrot', 'Produce', '45', 'Kg', '0.51', '1.04'), ('35', 'Beetroot', 'Produce', '30', 'Kg', '0.56', '1.09'), ('36', 'Kale', 'Produce', '35', 'Bunch', '0.26', '0.69'), ('37', 'Banana', 'Produce', '120', 'Dozen', '0.62', '1.39'), ('38', 'Apple', 'Produce', '65', 'Kg', '1.21', '2.27'), ('39', 'Orange', 'Produce', '90', 'Dozen', '0.79', '1.74'), ('40', 'Lemon', 'Produce', '80', 'Kg', '0.69', '1.49'), ('41', 'Papaya', 'Produce', '25', 'Unit', '1.04', '2.27'), ('42', 'Avocado', 'Produce', '20', 'Unit', '0.79', '1.74'), ('43', 'Orange Juice', 'Beverages', '40', '1L carton', '1.04', '1.92'), ('44', 'Soda', 'Beverages', '120', '2L bottle', '1.14', '2.09'), ('45', 'Mineral Water', 'Beverages', '162', '600ml bottle', '0.31', '0.70'), ('46', 'Beer', 'Beverages', '90', '350ml can', '0.51', '1.14'), ('47', 'Coffee', 'Beverages', '60', '500g pack', '2.27', '3.50'), ('48', 'Tea', 'Beverages', '45', '10-unit box', '0.69', '1.39'), ('49', 'Chocolate Powder', 'Beverages', '35', '400g jar', '1.56', '2.79'), ('50', 'Laundry Detergent', 'Cleaning', '50', '1kg pack', '2.27', '3.50'), ('51', 'Dish Soap', 'Cleaning', '70', '500ml bottle', '0.44', '0.97'), ('52', 'Disinfectant', 'Cleaning', '40', '1L bottle', '1.04', '1.92'), ('53', 'Bleach', 'Cleaning', '55', '1L bottle', '0.56', '1.14'), ('54', 'Fabric Softener', 'Cleaning', '45', '1L bottle', '1.56', '2.62'), ('55', 'Dish Sponge', 'Cleaning', '60', 'Unit', '0.21', '0.62'), ('56', 'Broom', 'Cleaning', '15', 'Unit', '3.32', '5.26'), ('57', 'Squeegee', 'Cleaning', '12', 'Unit', '2.79', '4.38'), ('58', 'Floor Cloths', 'Cleaning', '25', '2-unit pack', '1.74', '2.97'), ('59', 'Soap', 'Personal Care', '80', 'Unit', '0.26', '0.69'), ('60', 'Shampoo', 'Personal Care', '45', '200ml bottle', '1.56', '2.79'), ('61', 'Conditioner', 'Personal Care', '40', '200ml bottle', '1.74', '2.97'), ('62', 'Toothpaste', 'Personal Care', '65', '90g tube', '0.69', '1.39'), ('63', 'Toothbrush', 'Personal Care', '30', 'Unit', '0.86', '1.74'), ('64', 'Toilet Paper', 'Personal Care', '75', '4-roll pack', '1.56', '2.79'), ('65', 'Deodorant', 'Personal Care', '50', '100ml bottle', '1.74', '2.97'), ('66', 'Sanitary Pad', 'Personal Care', '40', '8-unit pack', '1.21', '2.27'), ('67', 'Dental Floss', 'Personal Care', '25', 'Unit', '0.69', '1.39'), ('68', 'Razor Blades', 'Personal Care', '20', '3-unit pack', '2.27', '3.50'), ('69', 'Filled Cookies', 'Snacks', '55', '130g pack', '0.51', '1.04'), ('70', 'Salted Crackers', 'Snacks', '60', '200g pack', '0.69', '1.32'), ('71', 'Water Crackers', 'Snacks', '45', '200g pack', '0.62', '1.21'), ('72', 'Microwave Popcorn', 'Snacks', '30', '100g pack', '0.51', '1.14'), ('73', 'Potato Chips', 'Snacks', '65', '80g pack', '0.33', '0.97'), ('74', 'Chocolate Bar', 'Snacks/Desserts', '40', '90g bar', '0.69', '1.39'), ('75', 'Assorted Candies', 'Snacks/Desserts', '120', '100g pack', '0.44', '1.04'), ('76', 'Gelatin', 'Snacks/Desserts', '35', '40g box', '0.26', '0.69'), ('77', 'Ice Cream', 'Snacks/Desserts', '25', '1.5L tub', '3.32', '5.26'), ('78', 'Tomato Sauce', 'Ready Foods', '50', '340g pouch', '0.51', '1.14'), ('79', 'Tomato Paste', 'Ready Foods', '45', '350g can', '0.62', '1.32'), ('80', 'Canned Corn/Peas', 'Ready Foods', '60', '200g can', '0.51', '1.04'), ('81', 'Canned Sardines', 'Ready Foods', '40', '125g can', '0.69', '1.39'), ('82', 'Canned Tuna', 'Ready Foods', '35', '170g can', '1.21', '2.27'), ('83', 'Mayonnaise', 'Ready Foods', '30', '500g jar', '1.04', '1.92'), ('84', 'Ketchup', 'Ready Foods', '40', '380g bottle', '0.86', '1.74'), ('85', 'Mustard', 'Ready Foods', '25', '200g bottle', '0.69', '1.39'), ('86', 'Seasoning Mix', 'Ready Foods', '55', '50g pack', '0.33', '0.79'), ('87', 'Bouillon Cube', 'Ready Foods', '65', '57g cube', '0.21', '0.62'), ('88', 'Cake Mix', 'Ready Foods', '20', '400g pack', '0.86', '1.74'), ('89', 'Pancake Mix', 'Ready Foods', '15', '200g pack', '0.69', '1.39'), ('90', 'Napkins', 'Utensils/Disposables', '80', '50-unit pack', '0.69', '1.39'), ('91', 'Trash Bags', 'Utensils/Disposables', '45', '30-unit roll', '1.56', '2.79'), ('92', 'Aluminum Foil', 'Utensils/Disposables', '30', '15m roll', '1.04', '1.92'), ('93', 'Plastic Wrap', 'Utensils/Disposables', '35', '15m roll', '1.21', '2.27'), ('94', 'Disposable Plates', 'Utensils/Disposables', '50', '10-unit pack', '0.86', '1.74'), ('95', 'Disposable Cups', 'Utensils/Disposables', '60', '20-unit pack', '1.04', '2.09'), ('96', 'Candles', 'Utensils/Disposables', '25', '3-unit pack', '0.69', '1.56'), ('97', 'Batteries', 'Household Items', '40', '2-unit pack', '1.04', '2.09'), ('98', 'Lighter/Match', 'Household Items', '50', 'Unit', '0.26', '0.69'), ('99', 'Dog Food', 'Pet', '30', '1kg pack', '2.27', '3.50'), ('100', 'Cat Litter', 'Pet', '20', '4kg bag', '3.32', '5.26')]\n"
          ]
        }
      ]
    },
    {
      "cell_type": "code",
      "source": [
        "cursor.execute(\"PRAGMA table_info(Products)\")\n",
        "colunas = cursor.fetchall()\n",
        "\n",
        "# Mostra só os nomes das colunas\n",
        "nomes_colunas = [coluna[1] for coluna in colunas]\n",
        "print(nomes_colunas)"
      ],
      "metadata": {
        "colab": {
          "base_uri": "https://localhost:8080/"
        },
        "id": "WrPoTUDe9mjK",
        "outputId": "044a613d-f10c-450a-9323-73338343bab3"
      },
      "execution_count": 40,
      "outputs": [
        {
          "output_type": "stream",
          "name": "stdout",
          "text": [
            "['Order', 'Item', 'Category', 'Stock', 'Type', 'Purchase_Price_(USD)', 'Sale_Price_(USD)']\n"
          ]
        }
      ]
    },
    {
      "cell_type": "code",
      "source": [
        "cursor.execute(\"SELECT * FROM Products\")\n",
        "\n",
        "# Transforma os dados em uma lista de tuplas\n",
        "products_market = cursor.fetchall()\n",
        "\n",
        "# Conta o total de registros\n",
        "total = len(products_market)\n",
        "\n",
        "# Imprime o total\n",
        "print(\"Total de produtos:\", total)"
      ],
      "metadata": {
        "colab": {
          "base_uri": "https://localhost:8080/"
        },
        "id": "AGJz1Vx0-EzI",
        "outputId": "e1fc7c05-0469-4c6a-cb7c-94907bb5b153"
      },
      "execution_count": 41,
      "outputs": [
        {
          "output_type": "stream",
          "name": "stdout",
          "text": [
            "Total de produtos: 100\n"
          ]
        }
      ]
    }
  ]
}